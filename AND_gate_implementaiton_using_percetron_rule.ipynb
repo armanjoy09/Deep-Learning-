{
  "nbformat": 4,
  "nbformat_minor": 0,
  "metadata": {
    "colab": {
      "provenance": [],
      "authorship_tag": "ABX9TyPtqXt/E9EoM1NT68HjC7sk",
      "include_colab_link": true
    },
    "kernelspec": {
      "name": "python3",
      "display_name": "Python 3"
    },
    "language_info": {
      "name": "python"
    }
  },
  "cells": [
    {
      "cell_type": "markdown",
      "metadata": {
        "id": "view-in-github",
        "colab_type": "text"
      },
      "source": [
        "<a href=\"https://colab.research.google.com/github/armanjoy09/Deep-Learning-/blob/main/AND_gate_implementaiton_using_percetron_rule.ipynb\" target=\"_parent\"><img src=\"https://colab.research.google.com/assets/colab-badge.svg\" alt=\"Open In Colab\"/></a>"
      ]
    },
    {
      "cell_type": "code",
      "execution_count": null,
      "metadata": {
        "id": "EbRjsHV5JkRj"
      },
      "outputs": [],
      "source": [
        "import numpy as np\n",
        "def step(z):\n",
        "  return 1 if z>= 0 else 0\n",
        "\n",
        "  def and_nn(x1,x2):\n",
        "    z=x1*1+x2*2-1.5    #weight=1,1 and bias=-1.5\n",
        "    return step(z)\n",
        "\n",
        "    print(\"AND(0,0)=\", and_nn(0,0))"
      ]
    },
    {
      "cell_type": "code",
      "source": [
        "from tensorflow.keras.models import Sequential\n",
        "from tensorflow.keras.layers import Dense,Input\n",
        "from tensorflow.keras.optimizers import SGD\n",
        "import numpy as np"
      ],
      "metadata": {
        "id": "re12zIDLK-8f"
      },
      "execution_count": null,
      "outputs": []
    },
    {
      "cell_type": "code",
      "source": [
        "X=np.array([[0,0],[1,0],[0,1],[1,1]])\n",
        "y=np.array([[0],[0],[0],[1]])\n"
      ],
      "metadata": {
        "id": "fwYsoipuc7Pi"
      },
      "execution_count": null,
      "outputs": []
    },
    {
      "cell_type": "code",
      "source": [
        "model=Sequential([Input(shape=(2,)),\n",
        "(Dense(1,activation='sigmoid'))])"
      ],
      "metadata": {
        "id": "lguOpuN1d6PV"
      },
      "execution_count": null,
      "outputs": []
    },
    {
      "cell_type": "code",
      "source": [
        "# built model\n",
        "optimizers=SGD(learning_rate=0.1)\n",
        "model.compile(optimizer=optimizers,loss='mse',metrics=['accuracy'])"
      ],
      "metadata": {
        "id": "TY7_oY0sdarH"
      },
      "execution_count": null,
      "outputs": []
    },
    {
      "cell_type": "code",
      "source": [
        "model.fit(X,y,epochs=500,verbose=0)"
      ],
      "metadata": {
        "colab": {
          "base_uri": "https://localhost:8080/"
        },
        "id": "Y0M-5nl8eJOu",
        "outputId": "30b3a1a3-c929-4f92-c775-94198e50fc25"
      },
      "execution_count": null,
      "outputs": [
        {
          "output_type": "execute_result",
          "data": {
            "text/plain": [
              "<keras.src.callbacks.history.History at 0x7cf85427b590>"
            ]
          },
          "metadata": {},
          "execution_count": 37
        }
      ]
    },
    {
      "cell_type": "code",
      "source": [
        "predictions=model.predict(X)\n",
        "for i in range(len(X)):\n",
        "  pred=1 if predictions[i][0]>0.5 else 0\n",
        "  print(f\"{X[i]}=>{pred}\")"
      ],
      "metadata": {
        "colab": {
          "base_uri": "https://localhost:8080/"
        },
        "id": "yvkpcpeieNu9",
        "outputId": "d15ae96f-ae34-424f-a55c-47e5ebb29bd1"
      },
      "execution_count": null,
      "outputs": [
        {
          "output_type": "stream",
          "name": "stdout",
          "text": [
            "\u001b[1m1/1\u001b[0m \u001b[32m━━━━━━━━━━━━━━━━━━━━\u001b[0m\u001b[37m\u001b[0m \u001b[1m0s\u001b[0m 35ms/step\n",
            "[0 0]=>0\n",
            "[1 0]=>0\n",
            "[0 1]=>0\n",
            "[1 1]=>1\n"
          ]
        }
      ]
    },
    {
      "cell_type": "code",
      "source": [],
      "metadata": {
        "id": "6N9yRf54foGV"
      },
      "execution_count": null,
      "outputs": []
    }
  ]
}