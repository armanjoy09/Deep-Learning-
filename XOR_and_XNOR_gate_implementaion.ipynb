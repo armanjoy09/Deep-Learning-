{
  "nbformat": 4,
  "nbformat_minor": 0,
  "metadata": {
    "colab": {
      "provenance": [],
      "authorship_tag": "ABX9TyNXyAszSWp1nfaCXh5PFMoO",
      "include_colab_link": true
    },
    "kernelspec": {
      "name": "python3",
      "display_name": "Python 3"
    },
    "language_info": {
      "name": "python"
    }
  },
  "cells": [
    {
      "cell_type": "markdown",
      "metadata": {
        "id": "view-in-github",
        "colab_type": "text"
      },
      "source": [
        "<a href=\"https://colab.research.google.com/github/armanjoy09/Deep-Learning-/blob/main/XOR_and_XNOR_gate_implementaion.ipynb\" target=\"_parent\"><img src=\"https://colab.research.google.com/assets/colab-badge.svg\" alt=\"Open In Colab\"/></a>"
      ]
    },
    {
      "cell_type": "code",
      "execution_count": null,
      "metadata": {
        "colab": {
          "base_uri": "https://localhost:8080/"
        },
        "id": "a75rFzDbiUYb",
        "outputId": "c47f1780-b4bb-430c-a8a0-d8c9dd55ca90"
      },
      "outputs": [
        {
          "output_type": "stream",
          "name": "stdout",
          "text": [
            "XOR(0,0)= 0\n",
            "XOR(0,1)= 1\n",
            "XOR(1,0)= 1\n",
            "XOR(1,1)= 0\n",
            "\n",
            "XNOR(0,0)= 1\n",
            "XNOR(0,1)= 0\n",
            "XNOR(1,0)= 0\n",
            "XNOR(1,1)= 1\n"
          ]
        }
      ],
      "source": [
        "# using python\n",
        "import numpy as np\n",
        "def step(z):\n",
        "  return 1 if z>=0 else 0\n",
        "\n",
        "def xor_nn(x1,x2):\n",
        "  h1=step(1*x1+1*x2-0.5)    #for or gate\n",
        "  h2=step(-1*x1-1*x2+1.5)    #for and gate\n",
        "  y=step(1*h1+1*h2-1.5)   #output layer(AND) that is also XOR gate\n",
        "  return y\n",
        "\n",
        "def xnor_nn(x1,x2):\n",
        "  h1=step(1*x1+1*x2-0.5)     #for or gate\n",
        "  h2=step(-1*x1-1*x2+1.5)\n",
        "  y=step(-1*h1-1*h2+1.5)   #XNOR gate\n",
        "  return y\n",
        "\n",
        "print(\"XOR(0,0)=\",xor_nn(0,0))\n",
        "print(\"XOR(0,1)=\",xor_nn(0,1))\n",
        "print(\"XOR(1,0)=\",xor_nn(1,0))\n",
        "print(\"XOR(1,1)=\",xor_nn(1,1))\n",
        "\n",
        "print(\"\\nXNOR(0,0)=\",xnor_nn(0,0))\n",
        "print(\"XNOR(0,1)=\",xnor_nn(0,1))\n",
        "print(\"XNOR(1,0)=\",xnor_nn(1,0))\n",
        "print(\"XNOR(1,1)=\",xnor_nn(1,1))"
      ]
    },
    {
      "cell_type": "code",
      "source": [
        "# using keras\n",
        "import numpy as np\n",
        "from tensorflow.keras.models import Sequential\n",
        "from tensorflow.keras.layers import Dense,Input\n"
      ],
      "metadata": {
        "id": "8_PpTINklq1q"
      },
      "execution_count": null,
      "outputs": []
    },
    {
      "cell_type": "code",
      "source": [
        "# for XOR gate\n",
        "X=np.array([[0,0],[0,1],[1,0],[1,1]])\n",
        "y=np.array([[0],[1],[1],[0]])"
      ],
      "metadata": {
        "id": "BOT6iZgunuP8"
      },
      "execution_count": null,
      "outputs": []
    },
    {
      "cell_type": "code",
      "source": [
        "# model built for XOR gate\n",
        "model=Sequential()\n",
        "model.add(Input(shape=(2,)))   #explicit input layer\n",
        "model.add(Dense(2,activation='sigmoid'))   #hidden layer that is or, and gate\n",
        "model.add(Dense(1,activation='sigmoid'))\n"
      ],
      "metadata": {
        "id": "YPw8ODREn_hm"
      },
      "execution_count": null,
      "outputs": []
    },
    {
      "cell_type": "code",
      "source": [
        "# compile model\n",
        "model.compile(optimizer='adam',loss='binary_crossentropy',metrics=['accuracy'])"
      ],
      "metadata": {
        "id": "ozYpVVwJoirJ"
      },
      "execution_count": null,
      "outputs": []
    },
    {
      "cell_type": "code",
      "source": [
        "# train the model\n",
        "model.fit(X,y,epochs=1000,verbose=0)"
      ],
      "metadata": {
        "colab": {
          "base_uri": "https://localhost:8080/"
        },
        "id": "cvc7VbmvqfiH",
        "outputId": "d73fa6e6-7228-4a83-96ae-8af8562d1055"
      },
      "execution_count": null,
      "outputs": [
        {
          "output_type": "execute_result",
          "data": {
            "text/plain": [
              "<keras.src.callbacks.history.History at 0x7d922d007290>"
            ]
          },
          "metadata": {},
          "execution_count": 44
        }
      ]
    },
    {
      "cell_type": "code",
      "source": [
        "# Prediction\n",
        "print(\"predicted value for XOR gate:\")\n",
        "predictions=model.predict(X).round()\n",
        "for i in range(len(X)):\n",
        "  print(f\"{X[i]} => {int(predictions[i][0])}\")"
      ],
      "metadata": {
        "colab": {
          "base_uri": "https://localhost:8080/"
        },
        "id": "I22h8w5MqvCI",
        "outputId": "185a4861-3aed-4561-9c98-6ca7affb29bb"
      },
      "execution_count": null,
      "outputs": [
        {
          "output_type": "stream",
          "name": "stdout",
          "text": [
            "predicted value for XOR gate:\n",
            "\u001b[1m1/1\u001b[0m \u001b[32m━━━━━━━━━━━━━━━━━━━━\u001b[0m\u001b[37m\u001b[0m \u001b[1m0s\u001b[0m 65ms/step\n",
            "[0 0] => 0\n",
            "[0 1] => 0\n",
            "[1 0] => 1\n",
            "[1 1] => 1\n"
          ]
        }
      ]
    },
    {
      "cell_type": "code",
      "source": [],
      "metadata": {
        "id": "xqIJObozsbOA"
      },
      "execution_count": null,
      "outputs": []
    }
  ]
}