{
  "nbformat": 4,
  "nbformat_minor": 0,
  "metadata": {
    "colab": {
      "provenance": [],
      "authorship_tag": "ABX9TyOMH0nIjpIV12Ns2vP8DEJ7",
      "include_colab_link": true
    },
    "kernelspec": {
      "name": "python3",
      "display_name": "Python 3"
    },
    "language_info": {
      "name": "python"
    }
  },
  "cells": [
    {
      "cell_type": "markdown",
      "metadata": {
        "id": "view-in-github",
        "colab_type": "text"
      },
      "source": [
        "<a href=\"https://colab.research.google.com/github/armanjoy09/Deep-Learning-/blob/main/OR_gate_implement_using_perceptron_rule.ipynb\" target=\"_parent\"><img src=\"https://colab.research.google.com/assets/colab-badge.svg\" alt=\"Open In Colab\"/></a>"
      ]
    },
    {
      "cell_type": "code",
      "execution_count": null,
      "metadata": {
        "colab": {
          "base_uri": "https://localhost:8080/"
        },
        "id": "XlfNd1xSv_oI",
        "outputId": "f5870c14-c53e-4c9b-f688-db0ba555cc44"
      },
      "outputs": [
        {
          "output_type": "stream",
          "name": "stdout",
          "text": [
            "OR(0,0)= 0\n",
            "OR(1,0)= 1\n",
            "OR(0,1)= 1\n",
            "OR(1,1)=\n"
          ]
        },
        {
          "output_type": "execute_result",
          "data": {
            "text/plain": [
              "(None, 1)"
            ]
          },
          "metadata": {},
          "execution_count": 18
        }
      ],
      "source": [
        "# using only python\n",
        "def step(z):\n",
        "  return 1 if z>-0 else 0\n",
        "\n",
        "\n",
        "def or_nn(x1,x2):\n",
        "  # weight=w1x1+w2x2+b\n",
        "  z=1*x1+1*x2-0.5  #assum w=1 and bias b=-0.5\n",
        "  return step(z)\n",
        "\n",
        "print(\"OR(0,0)=\",or_nn(0,0))\n",
        "print(\"OR(1,0)=\",or_nn(1,0))\n",
        "print(\"OR(0,1)=\",or_nn(0,1))\n",
        "print(\"OR(1,1)=\"),or_nn(1,1)"
      ]
    },
    {
      "cell_type": "code",
      "source": [
        "# using libaries like tensorflow,kears\n",
        "import  numpy as np\n",
        "from tensorflow.keras.models import Sequential\n",
        "from tensorflow.keras.layers import Dense, Input\n",
        "from tensorflow.keras.optimizers import SGD"
      ],
      "metadata": {
        "id": "umpxlSqJxjKN"
      },
      "execution_count": null,
      "outputs": []
    },
    {
      "cell_type": "code",
      "source": [
        "# OR gate input and output\n",
        "X=np.array([[0,0],[1,0],[0,1],[1,1]])   #Input value\n",
        "y=np.array([[0],[1],[1],[1]])           #output value for OR gate"
      ],
      "metadata": {
        "id": "o3zsE_Tiz-pb"
      },
      "execution_count": null,
      "outputs": []
    },
    {
      "cell_type": "code",
      "source": [
        "# built model\n",
        "model=Sequential()\n",
        "model.add(Input(shape=(2,)))      #shape= means there is 2 input in neuron\n",
        "model.add(Dense(1,activation='sigmoid'))  #1 output neuron"
      ],
      "metadata": {
        "id": "wjc405l132Vs"
      },
      "execution_count": null,
      "outputs": []
    },
    {
      "cell_type": "code",
      "source": [
        "# compile the model\n",
        "optimizer=SGD(learning_rate=0.1)\n",
        "model.compile(loss='binary_crossentropy',optimizer=optimizer,metrics=['accuracy'])"
      ],
      "metadata": {
        "id": "wXx3LRdH931C"
      },
      "execution_count": null,
      "outputs": []
    },
    {
      "cell_type": "code",
      "source": [
        "model.fit(X,y,epochs=1000,verbose=0)"
      ],
      "metadata": {
        "colab": {
          "base_uri": "https://localhost:8080/"
        },
        "id": "ym-vTDDy_DwP",
        "outputId": "eca1b598-de0b-451b-e5b7-e2b5c7c5231f"
      },
      "execution_count": null,
      "outputs": [
        {
          "output_type": "execute_result",
          "data": {
            "text/plain": [
              "<keras.src.callbacks.history.History at 0x7b1e3736e290>"
            ]
          },
          "metadata": {},
          "execution_count": 24
        }
      ]
    },
    {
      "cell_type": "code",
      "source": [
        "# prediction\n",
        "prediction=model.predict(X)\n",
        "print(\"prediction for OR gate\")\n",
        "for i in range(len(X)):\n",
        "  pred=1 if prediction[i][0]>0.5 else 0\n",
        "  print(f\"{X[i]}=>{pred}\")"
      ],
      "metadata": {
        "colab": {
          "base_uri": "https://localhost:8080/"
        },
        "id": "xYG8_KlV_Q6P",
        "outputId": "75944eef-bf16-4ca9-d346-fe252987a5e5"
      },
      "execution_count": null,
      "outputs": [
        {
          "output_type": "stream",
          "name": "stdout",
          "text": [
            "\u001b[1m1/1\u001b[0m \u001b[32m━━━━━━━━━━━━━━━━━━━━\u001b[0m\u001b[37m\u001b[0m \u001b[1m0s\u001b[0m 37ms/step\n",
            "prediction for OR gate\n",
            "[0 0]=>0\n",
            "[1 0]=>1\n",
            "[0 1]=>1\n",
            "[1 1]=>1\n"
          ]
        }
      ]
    },
    {
      "cell_type": "code",
      "source": [],
      "metadata": {
        "id": "cS3P_Ee9ChNx"
      },
      "execution_count": null,
      "outputs": []
    }
  ]
}